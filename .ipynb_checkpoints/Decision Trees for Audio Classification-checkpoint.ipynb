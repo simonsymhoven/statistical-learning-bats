{
 "cells": [
  {
   "cell_type": "code",
   "execution_count": 59,
   "id": "flexible-lightweight",
   "metadata": {},
   "outputs": [
    {
     "name": "stdout",
     "output_type": "stream",
     "text": [
      "Requirement already satisfied: Pillow in c:\\users\\kpour\\anaconda3\\lib\\site-packages (9.0.1)\n"
     ]
    }
   ],
   "source": [
    "!pip install Pillow"
   ]
  },
  {
   "cell_type": "code",
   "execution_count": 1,
   "id": "b1bd1d96",
   "metadata": {},
   "outputs": [],
   "source": [
    "# Laden relevante Bibliotheken\n",
    "import pandas as pd\n",
    "import numpy as np\n",
    "import glob\n",
    "import PIL\n",
    "from PIL import Image\n",
    "\n",
    "from sklearn.model_selection import train_test_split\n",
    "from sklearn.metrics import accuracy_score\n",
    "from sklearn import tree\n",
    "from sklearn.tree import DecisionTreeClassifier\n",
    "from sklearn.model_selection import GridSearchCV\n",
    "\n",
    "from sklearn.ensemble import RandomForestClassifier\n"
   ]
  },
  {
   "cell_type": "markdown",
   "id": "7db8e8a6",
   "metadata": {},
   "source": [
    "# Preprocessing\n",
    "\n",
    "Uns liegen Audiodaten und Ihre entsprechenden Spektogrammen vor. Wir müssen also die Bilder/Spektogramme in ein Format konvertieren, das von unseren Modellen verstanden werden kann.\n",
    "\n",
    "Beschaffung der eigentlichen Bildarrays; dies erzeugt eine sehr hochdimensionale Featuremenge. Das führt aber eine Vrschlechtung der Accurancy des Models."
   ]
  },
  {
   "cell_type": "markdown",
   "id": "valuable-target",
   "metadata": {},
   "source": [
    "### Konverierung der Bilder auf Matricies"
   ]
  },
  {
   "cell_type": "code",
   "execution_count": 2,
   "id": "painful-depression",
   "metadata": {},
   "outputs": [
    {
     "data": {
      "text/html": [
       "<div>\n",
       "<style scoped>\n",
       "    .dataframe tbody tr th:only-of-type {\n",
       "        vertical-align: middle;\n",
       "    }\n",
       "\n",
       "    .dataframe tbody tr th {\n",
       "        vertical-align: top;\n",
       "    }\n",
       "\n",
       "    .dataframe thead th {\n",
       "        text-align: right;\n",
       "    }\n",
       "</style>\n",
       "<table border=\"1\" class=\"dataframe\">\n",
       "  <thead>\n",
       "    <tr style=\"text-align: right;\">\n",
       "      <th></th>\n",
       "      <th>Filename</th>\n",
       "      <th>ID</th>\n",
       "      <th>Species</th>\n",
       "    </tr>\n",
       "  </thead>\n",
       "  <tbody>\n",
       "    <tr>\n",
       "      <th>0</th>\n",
       "      <td>1504695082.jpg</td>\n",
       "      <td>1504695082</td>\n",
       "      <td>Bechsteinfledermaus</td>\n",
       "    </tr>\n",
       "    <tr>\n",
       "      <th>1</th>\n",
       "      <td>1504714350.jpg</td>\n",
       "      <td>1504714350</td>\n",
       "      <td>Bechsteinfledermaus</td>\n",
       "    </tr>\n",
       "    <tr>\n",
       "      <th>2</th>\n",
       "      <td>1504715079.jpg</td>\n",
       "      <td>1504715079</td>\n",
       "      <td>Bechsteinfledermaus</td>\n",
       "    </tr>\n",
       "    <tr>\n",
       "      <th>3</th>\n",
       "      <td>1504716272.jpg</td>\n",
       "      <td>1504716272</td>\n",
       "      <td>Bechsteinfledermaus</td>\n",
       "    </tr>\n",
       "    <tr>\n",
       "      <th>4</th>\n",
       "      <td>1504716318.jpg</td>\n",
       "      <td>1504716318</td>\n",
       "      <td>Bechsteinfledermaus</td>\n",
       "    </tr>\n",
       "  </tbody>\n",
       "</table>\n",
       "</div>"
      ],
      "text/plain": [
       "         Filename          ID              Species\n",
       "0  1504695082.jpg  1504695082  Bechsteinfledermaus\n",
       "1  1504714350.jpg  1504714350  Bechsteinfledermaus\n",
       "2  1504715079.jpg  1504715079  Bechsteinfledermaus\n",
       "3  1504716272.jpg  1504716272  Bechsteinfledermaus\n",
       "4  1504716318.jpg  1504716318  Bechsteinfledermaus"
      ]
     },
     "execution_count": 2,
     "metadata": {},
     "output_type": "execute_result"
    }
   ],
   "source": [
    "data_folder = \"\"\n",
    "data = pd.read_csv(f'{data_folder}data.csv', sep=\";\")\n",
    "data.drop_duplicates(inplace=True)\n",
    "data.head()"
   ]
  },
  {
   "cell_type": "code",
   "execution_count": null,
   "id": "uniform-schedule",
   "metadata": {},
   "outputs": [],
   "source": [
    "nx = 288\n",
    "ny = 432\n",
    "nrgb = 4\n",
    "\n",
    "# verwende glob zu parsen alle png Files\n",
    "filenames = glob.glob(f'images/*.png')\n",
    "# Liste erstellen, die die Bild-Matricies enthält\n",
    "arr_list = []\n",
    "# Liste erstellen, die die File-Namen enthält\n",
    "names = []\n",
    "\n",
    "for f in filenames:\n",
    "    \n",
    "    # den File Name z.B 1509260730 nehmen\n",
    "    name = f[22:-4]\n",
    "    names.append(name)\n",
    "    \n",
    "    # Bild zu einem Vektor vorverarbeiten\n",
    "    image = Image.open(f)\n",
    "    arr = np.asarray(image)\n",
    "    arr = arr/255.\n",
    "    arr = arr.reshape((1,nx*ny*nrgb))\n",
    "    arr_list.append(arr)\n",
    "    \n",
    "df = pd.DataFrame(np.concatenate(arr_list))\n",
    "df['ID'] = names\n",
    "df['ID'] = df['ID'].astype(int)"
   ]
  },
  {
   "cell_type": "code",
   "execution_count": 30,
   "id": "turned-promise",
   "metadata": {},
   "outputs": [
    {
     "data": {
      "text/html": [
       "<div>\n",
       "<style scoped>\n",
       "    .dataframe tbody tr th:only-of-type {\n",
       "        vertical-align: middle;\n",
       "    }\n",
       "\n",
       "    .dataframe tbody tr th {\n",
       "        vertical-align: top;\n",
       "    }\n",
       "\n",
       "    .dataframe thead th {\n",
       "        text-align: right;\n",
       "    }\n",
       "</style>\n",
       "<table border=\"1\" class=\"dataframe\">\n",
       "  <thead>\n",
       "    <tr style=\"text-align: right;\">\n",
       "      <th></th>\n",
       "      <th>0</th>\n",
       "      <th>1</th>\n",
       "      <th>2</th>\n",
       "      <th>3</th>\n",
       "      <th>4</th>\n",
       "      <th>5</th>\n",
       "      <th>6</th>\n",
       "      <th>7</th>\n",
       "      <th>8</th>\n",
       "      <th>9</th>\n",
       "      <th>...</th>\n",
       "      <th>497655</th>\n",
       "      <th>497656</th>\n",
       "      <th>497657</th>\n",
       "      <th>497658</th>\n",
       "      <th>497659</th>\n",
       "      <th>497660</th>\n",
       "      <th>497661</th>\n",
       "      <th>497662</th>\n",
       "      <th>497663</th>\n",
       "      <th>Species</th>\n",
       "    </tr>\n",
       "    <tr>\n",
       "      <th>ID</th>\n",
       "      <th></th>\n",
       "      <th></th>\n",
       "      <th></th>\n",
       "      <th></th>\n",
       "      <th></th>\n",
       "      <th></th>\n",
       "      <th></th>\n",
       "      <th></th>\n",
       "      <th></th>\n",
       "      <th></th>\n",
       "      <th></th>\n",
       "      <th></th>\n",
       "      <th></th>\n",
       "      <th></th>\n",
       "      <th></th>\n",
       "      <th></th>\n",
       "      <th></th>\n",
       "      <th></th>\n",
       "      <th></th>\n",
       "      <th></th>\n",
       "      <th></th>\n",
       "    </tr>\n",
       "  </thead>\n",
       "  <tbody>\n",
       "    <tr>\n",
       "      <th>1504695082</th>\n",
       "      <td>1.0</td>\n",
       "      <td>1.0</td>\n",
       "      <td>1.0</td>\n",
       "      <td>0.0</td>\n",
       "      <td>1.0</td>\n",
       "      <td>1.0</td>\n",
       "      <td>1.0</td>\n",
       "      <td>0.0</td>\n",
       "      <td>1.0</td>\n",
       "      <td>1.0</td>\n",
       "      <td>...</td>\n",
       "      <td>0.0</td>\n",
       "      <td>1.0</td>\n",
       "      <td>1.0</td>\n",
       "      <td>1.0</td>\n",
       "      <td>0.0</td>\n",
       "      <td>1.0</td>\n",
       "      <td>1.0</td>\n",
       "      <td>1.0</td>\n",
       "      <td>0.0</td>\n",
       "      <td>Bechsteinfledermaus</td>\n",
       "    </tr>\n",
       "    <tr>\n",
       "      <th>1504714350</th>\n",
       "      <td>1.0</td>\n",
       "      <td>1.0</td>\n",
       "      <td>1.0</td>\n",
       "      <td>0.0</td>\n",
       "      <td>1.0</td>\n",
       "      <td>1.0</td>\n",
       "      <td>1.0</td>\n",
       "      <td>0.0</td>\n",
       "      <td>1.0</td>\n",
       "      <td>1.0</td>\n",
       "      <td>...</td>\n",
       "      <td>0.0</td>\n",
       "      <td>1.0</td>\n",
       "      <td>1.0</td>\n",
       "      <td>1.0</td>\n",
       "      <td>0.0</td>\n",
       "      <td>1.0</td>\n",
       "      <td>1.0</td>\n",
       "      <td>1.0</td>\n",
       "      <td>0.0</td>\n",
       "      <td>Bechsteinfledermaus</td>\n",
       "    </tr>\n",
       "    <tr>\n",
       "      <th>1504715079</th>\n",
       "      <td>1.0</td>\n",
       "      <td>1.0</td>\n",
       "      <td>1.0</td>\n",
       "      <td>0.0</td>\n",
       "      <td>1.0</td>\n",
       "      <td>1.0</td>\n",
       "      <td>1.0</td>\n",
       "      <td>0.0</td>\n",
       "      <td>1.0</td>\n",
       "      <td>1.0</td>\n",
       "      <td>...</td>\n",
       "      <td>0.0</td>\n",
       "      <td>1.0</td>\n",
       "      <td>1.0</td>\n",
       "      <td>1.0</td>\n",
       "      <td>0.0</td>\n",
       "      <td>1.0</td>\n",
       "      <td>1.0</td>\n",
       "      <td>1.0</td>\n",
       "      <td>0.0</td>\n",
       "      <td>Bechsteinfledermaus</td>\n",
       "    </tr>\n",
       "    <tr>\n",
       "      <th>1504716272</th>\n",
       "      <td>1.0</td>\n",
       "      <td>1.0</td>\n",
       "      <td>1.0</td>\n",
       "      <td>0.0</td>\n",
       "      <td>1.0</td>\n",
       "      <td>1.0</td>\n",
       "      <td>1.0</td>\n",
       "      <td>0.0</td>\n",
       "      <td>1.0</td>\n",
       "      <td>1.0</td>\n",
       "      <td>...</td>\n",
       "      <td>0.0</td>\n",
       "      <td>1.0</td>\n",
       "      <td>1.0</td>\n",
       "      <td>1.0</td>\n",
       "      <td>0.0</td>\n",
       "      <td>1.0</td>\n",
       "      <td>1.0</td>\n",
       "      <td>1.0</td>\n",
       "      <td>0.0</td>\n",
       "      <td>Bechsteinfledermaus</td>\n",
       "    </tr>\n",
       "    <tr>\n",
       "      <th>1504716318</th>\n",
       "      <td>1.0</td>\n",
       "      <td>1.0</td>\n",
       "      <td>1.0</td>\n",
       "      <td>0.0</td>\n",
       "      <td>1.0</td>\n",
       "      <td>1.0</td>\n",
       "      <td>1.0</td>\n",
       "      <td>0.0</td>\n",
       "      <td>1.0</td>\n",
       "      <td>1.0</td>\n",
       "      <td>...</td>\n",
       "      <td>0.0</td>\n",
       "      <td>1.0</td>\n",
       "      <td>1.0</td>\n",
       "      <td>1.0</td>\n",
       "      <td>0.0</td>\n",
       "      <td>1.0</td>\n",
       "      <td>1.0</td>\n",
       "      <td>1.0</td>\n",
       "      <td>0.0</td>\n",
       "      <td>Bechsteinfledermaus</td>\n",
       "    </tr>\n",
       "  </tbody>\n",
       "</table>\n",
       "<p>5 rows × 497665 columns</p>\n",
       "</div>"
      ],
      "text/plain": [
       "              0    1    2    3    4    5    6    7    8    9  ...  497655  \\\n",
       "ID                                                            ...           \n",
       "1504695082  1.0  1.0  1.0  0.0  1.0  1.0  1.0  0.0  1.0  1.0  ...     0.0   \n",
       "1504714350  1.0  1.0  1.0  0.0  1.0  1.0  1.0  0.0  1.0  1.0  ...     0.0   \n",
       "1504715079  1.0  1.0  1.0  0.0  1.0  1.0  1.0  0.0  1.0  1.0  ...     0.0   \n",
       "1504716272  1.0  1.0  1.0  0.0  1.0  1.0  1.0  0.0  1.0  1.0  ...     0.0   \n",
       "1504716318  1.0  1.0  1.0  0.0  1.0  1.0  1.0  0.0  1.0  1.0  ...     0.0   \n",
       "\n",
       "            497656  497657  497658  497659  497660  497661  497662  497663  \\\n",
       "ID                                                                           \n",
       "1504695082     1.0     1.0     1.0     0.0     1.0     1.0     1.0     0.0   \n",
       "1504714350     1.0     1.0     1.0     0.0     1.0     1.0     1.0     0.0   \n",
       "1504715079     1.0     1.0     1.0     0.0     1.0     1.0     1.0     0.0   \n",
       "1504716272     1.0     1.0     1.0     0.0     1.0     1.0     1.0     0.0   \n",
       "1504716318     1.0     1.0     1.0     0.0     1.0     1.0     1.0     0.0   \n",
       "\n",
       "                        Species  \n",
       "ID                               \n",
       "1504695082  Bechsteinfledermaus  \n",
       "1504714350  Bechsteinfledermaus  \n",
       "1504715079  Bechsteinfledermaus  \n",
       "1504716272  Bechsteinfledermaus  \n",
       "1504716318  Bechsteinfledermaus  \n",
       "\n",
       "[5 rows x 497665 columns]"
      ]
     },
     "execution_count": 30,
     "metadata": {},
     "output_type": "execute_result"
    }
   ],
   "source": [
    "# Die Dataframes verbinden, um die Klassenbezeichnungen zu erhalten\n",
    "merged_data = pd.merge(df, data[['ID', 'Species']], on='ID', how='left')\n",
    "merged_data.set_index('ID', inplace=True)\n",
    "merged_data.head()"
   ]
  },
  {
   "cell_type": "markdown",
   "id": "lesser-discussion",
   "metadata": {},
   "source": [
    "### Train a classifier"
   ]
  },
  {
   "cell_type": "code",
   "execution_count": 63,
   "id": "tested-preservation",
   "metadata": {},
   "outputs": [],
   "source": [
    "# Ermitteln der Labels\n",
    "data_y = merged_data.Species \n",
    "# Ermitteln der Features\n",
    "data_x = merged_data.drop(['Species'], axis=1)\n",
    "\n",
    "# train-test split\n",
    "x_train, x_test, y_train, y_test = train_test_split(data_x, data_y, test_size=0.2, shuffle='True')"
   ]
  },
  {
   "cell_type": "code",
   "execution_count": 64,
   "id": "ideal-playlist",
   "metadata": {},
   "outputs": [
    {
     "data": {
      "text/plain": [
       "DecisionTreeClassifier(max_depth=10, random_state=100)"
      ]
     },
     "execution_count": 64,
     "metadata": {},
     "output_type": "execute_result"
    }
   ],
   "source": [
    "clf = DecisionTreeClassifier(max_depth=10,criterion='gini', random_state=100) \n",
    "\n",
    "\n",
    "clf.fit(x_train,y_train)\n"
   ]
  },
  {
   "cell_type": "code",
   "execution_count": 65,
   "id": "frequent-aspect",
   "metadata": {},
   "outputs": [],
   "source": [
    "y_pred = clf.predict(x_test)"
   ]
  },
  {
   "cell_type": "code",
   "execution_count": 66,
   "id": "alive-lawrence",
   "metadata": {},
   "outputs": [
    {
     "name": "stdout",
     "output_type": "stream",
     "text": [
      "Test set accuracy: 0.3162393162393162\n"
     ]
    }
   ],
   "source": [
    "acc = accuracy_score(y_pred, y_test)\n",
    "print(f\"Test set accuracy: {acc}\")"
   ]
  },
  {
   "cell_type": "markdown",
   "id": "frequent-married",
   "metadata": {},
   "source": [
    "### Hyperparameter tuning\n",
    "\n",
    "max depth is a hyperparameter of the Decision Tree that we can tune using cross validation, others can be max_leaf_nodes, max_features etc..\n",
    "\n",
    "We will evaluate our decision tree classifier on various max_depth values and choose the best value"
   ]
  },
  {
   "cell_type": "code",
   "execution_count": 67,
   "id": "diagnostic-paradise",
   "metadata": {},
   "outputs": [
    {
     "name": "stdout",
     "output_type": "stream",
     "text": [
      "Tuned Hyperparameters : {'max_depth': 6}\n",
      "Accuracy : 0.42795698924731185\n"
     ]
    }
   ],
   "source": [
    "depths = [i for i in range(5,10)] + [None]\n",
    "\n",
    "\n",
    "parameters = {\n",
    "    'max_depth' : depths, \n",
    "}\n",
    "\n",
    "decision_tree = DecisionTreeClassifier()\n",
    "\n",
    "tuned_clf = GridSearchCV(decision_tree,                    # Modell\n",
    "                         param_grid = parameters,   # Hyperparameter\n",
    "                         scoring='accuracy',        # Accuracy\n",
    "                         cv=3)                     # Folds-Anzahl\n",
    "\n",
    "\n",
    "tuned_clf.fit(x_train,y_train)\n",
    "print(\"Tuned Hyperparameters :\", tuned_clf.best_params_)\n",
    "print(\"Accuracy :\",tuned_clf.best_score_)"
   ]
  },
  {
   "cell_type": "code",
   "execution_count": 43,
   "id": "invisible-finance",
   "metadata": {},
   "outputs": [
    {
     "name": "stdout",
     "output_type": "stream",
     "text": [
      "Test set accuracy: 0.36752136752136755\n"
     ]
    }
   ],
   "source": [
    "# Erneute Überprüfung der Ergebnisse auf der Testmenge unter Verwendung des besten Hyperparameters. \n",
    "\n",
    "best_clf = DecisionTreeClassifier(max_depth=tuned_clf.best_params_[\"max_depth\"]) \n",
    "\n",
    "\n",
    "clf.fit(x_train,y_train)\n",
    "y_pred = clf.predict(x_test)\n",
    "acc = accuracy_score(y_pred, y_test)\n",
    "print(f\"Test set accuracy: {acc}\")"
   ]
  },
  {
   "cell_type": "code",
   "execution_count": 37,
   "id": "retained-papua",
   "metadata": {},
   "outputs": [],
   "source": [
    "# Now repeat the same process using a Random Forest\n",
    "# Hint some hyperparameters that might interest you are max_depth, n_estimators, max_features\n",
    "# Check the documentation here https://scikit-learn.org/stable/modules/generated/sklearn.ensemble.RandomForestClassifier.html\n",
    "from sklearn.ensemble import RandomForestClassifier"
   ]
  },
  {
   "cell_type": "markdown",
   "id": "australian-medline",
   "metadata": {},
   "source": [
    "Note that when you run the results again you will get different results if you do not set the random_state in the classifiers and in the train_test_split or anywhere else that there is randomness"
   ]
  },
  {
   "cell_type": "code",
   "execution_count": 69,
   "id": "interim-convert",
   "metadata": {},
   "outputs": [],
   "source": [
    "#repeat using a Random Forest\n"
   ]
  },
  {
   "cell_type": "code",
   "execution_count": 70,
   "id": "a9b9f513",
   "metadata": {},
   "outputs": [
    {
     "data": {
      "text/plain": [
       "RandomForestClassifier(max_depth=10, random_state=100)"
      ]
     },
     "execution_count": 70,
     "metadata": {},
     "output_type": "execute_result"
    }
   ],
   "source": [
    "clf = RandomForestClassifier(max_depth=10,criterion='gini', random_state=100) \n",
    "\n",
    "# fit the classifier\n",
    "clf.fit(x_train,y_train)\n"
   ]
  },
  {
   "cell_type": "code",
   "execution_count": 71,
   "id": "eb74a32e",
   "metadata": {},
   "outputs": [],
   "source": [
    "y_pred = clf.predict(x_test)"
   ]
  },
  {
   "cell_type": "code",
   "execution_count": 72,
   "id": "94a8b51e",
   "metadata": {},
   "outputs": [
    {
     "name": "stdout",
     "output_type": "stream",
     "text": [
      "Test set accuracy: 0.5042735042735043\n"
     ]
    }
   ],
   "source": [
    "acc = accuracy_score(y_pred, y_test)\n",
    "print(f\"Test set accuracy: {acc}\")"
   ]
  },
  {
   "cell_type": "code",
   "execution_count": null,
   "id": "5963e9bd",
   "metadata": {},
   "outputs": [],
   "source": [
    "depths = [i for i in range(5,10)] + [None]\n",
    "\n",
    "# you can add more hyperparams in the parameters dictionary\n",
    "parameters = {\n",
    "    'max_depth' : depths, \n",
    "}\n",
    "\n",
    "decision_tree = RandomForestClassifier()\n",
    "\n",
    "tuned_clf = GridSearchCV(decision_tree,                    # model\n",
    "                         param_grid = parameters,   # hyperparameters\n",
    "                         scoring='accuracy',        # metric for scoring\n",
    "                         cv=3)                     # number of folds\n",
    "\n",
    "\n",
    "tuned_clf.fit(x_train,y_train)\n",
    "print(\"Tuned Hyperparameters :\", tuned_clf.best_params_)\n",
    "print(\"Accuracy :\",tuned_clf.best_score_)"
   ]
  },
  {
   "cell_type": "code",
   "execution_count": 54,
   "id": "bf8b2ce7",
   "metadata": {},
   "outputs": [
    {
     "name": "stdout",
     "output_type": "stream",
     "text": [
      "Test set accuracy: 0.5470085470085471\n"
     ]
    }
   ],
   "source": [
    "best_clf = RandomForestClassifier(max_depth=tuned_clf.best_params_[\"max_depth\"]) \n",
    "\n",
    "# fit the classifier\n",
    "clf.fit(x_train,y_train)\n",
    "y_pred = clf.predict(x_test)\n",
    "acc = accuracy_score(y_pred, y_test)\n",
    "print(f\"Test set accuracy: {acc}\")"
   ]
  },
  {
   "cell_type": "code",
   "execution_count": null,
   "id": "2aca0cd1",
   "metadata": {},
   "outputs": [],
   "source": []
  }
 ],
 "metadata": {
  "kernelspec": {
   "display_name": "Python 3 (ipykernel)",
   "language": "python",
   "name": "python3"
  },
  "language_info": {
   "codemirror_mode": {
    "name": "ipython",
    "version": 3
   },
   "file_extension": ".py",
   "mimetype": "text/x-python",
   "name": "python",
   "nbconvert_exporter": "python",
   "pygments_lexer": "ipython3",
   "version": "3.9.13"
  },
  "toc": {
   "base_numbering": 1,
   "nav_menu": {},
   "number_sections": true,
   "sideBar": true,
   "skip_h1_title": false,
   "title_cell": "Table of Contents",
   "title_sidebar": "Contents",
   "toc_cell": false,
   "toc_position": {},
   "toc_section_display": true,
   "toc_window_display": false
  }
 },
 "nbformat": 4,
 "nbformat_minor": 5
}
